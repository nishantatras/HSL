{
 "cells": [
  {
   "cell_type": "code",
   "execution_count": 53,
   "id": "fcc1f7c9-edf6-4b48-b006-034f5e9aae8d",
   "metadata": {},
   "outputs": [],
   "source": [
    "import cv2\n",
    "import os"
   ]
  },
  {
   "cell_type": "code",
   "execution_count": 54,
   "id": "e0ecccf4-28e6-4d04-aae3-c0f084ab7275",
   "metadata": {},
   "outputs": [],
   "source": [
    "# Specify the directory where you want to save the images\n",
    "save_directory = \"C:\\\\Users\\\\mehro\\\\Desktop\\\\Tensorflow_projects\\\\image\\\\प\"  # Replace with your desired directory"
   ]
  },
  {
   "cell_type": "code",
   "execution_count": 55,
   "id": "fef52f85-7628-4d26-98b7-d45f4007bf9a",
   "metadata": {},
   "outputs": [],
   "source": [
    "if not os.path.exists(save_directory):\n",
    "    os.makedirs(save_directory)"
   ]
  },
  {
   "cell_type": "code",
   "execution_count": 56,
   "id": "dbb514b6-fe28-4a05-b806-43cf1631be67",
   "metadata": {},
   "outputs": [],
   "source": [
    "while True:\n",
    "    # Capture a single frame\n",
    "    ret, frame = cap.read()\n",
    "\n",
    "    if not ret:\n",
    "        print(\"Error: Failed to capture image.\")\n",
    "        break\n",
    "\n",
    "    # Display the captured frame\n",
    "    cv2.imshow('Press Space to Capture, q to Quit', frame)\n",
    "\n",
    "    # Wait for a key press\n",
    "    key = cv2.waitKey(1)\n",
    "\n",
    "    if key == 32:  # If the spacebar is pressed (ASCII code 32)\n",
    "        # Save the image\n",
    "        img_name = f\"captured_image_{image_count}.png\"\n",
    "        cv2.imwrite(img_name, frame)\n",
    "        print(f\"Image {image_count} captured and saved as {img_name}\")\n",
    "        image_count += 1\n",
    "\n",
    "    elif key == ord('q'):  # Press 'q' to quit\n",
    "        break\n",
    "\n"
   ]
  },
  {
   "cell_type": "code",
   "execution_count": 57,
   "id": "dbbd869a-be05-41d3-8ec3-468a3b03bcd0",
   "metadata": {},
   "outputs": [],
   "source": [
    "if not cap.isOpened():\n",
    "    print(\"Error: Could not open camera.\")\n",
    "    exit()\n",
    "\n",
    "image_count = 1  # Counter for saved images"
   ]
  },
  {
   "cell_type": "code",
   "execution_count": 58,
   "id": "a4d234ab-edb2-4965-8d10-9b88c62c1eec",
   "metadata": {},
   "outputs": [
    {
     "name": "stdout",
     "output_type": "stream",
     "text": [
      "Image 1 captured and saved as C:\\Users\\mehro\\Desktop\\Tensorflow_projects\\image\\प\\1.jpg\n",
      "Image 2 captured and saved as C:\\Users\\mehro\\Desktop\\Tensorflow_projects\\image\\प\\2.jpg\n",
      "Image 3 captured and saved as C:\\Users\\mehro\\Desktop\\Tensorflow_projects\\image\\प\\3.jpg\n",
      "Image 4 captured and saved as C:\\Users\\mehro\\Desktop\\Tensorflow_projects\\image\\प\\4.jpg\n",
      "Image 5 captured and saved as C:\\Users\\mehro\\Desktop\\Tensorflow_projects\\image\\प\\5.jpg\n",
      "Image 6 captured and saved as C:\\Users\\mehro\\Desktop\\Tensorflow_projects\\image\\प\\6.jpg\n",
      "Image 7 captured and saved as C:\\Users\\mehro\\Desktop\\Tensorflow_projects\\image\\प\\7.jpg\n",
      "Image 8 captured and saved as C:\\Users\\mehro\\Desktop\\Tensorflow_projects\\image\\प\\8.jpg\n",
      "Image 9 captured and saved as C:\\Users\\mehro\\Desktop\\Tensorflow_projects\\image\\प\\9.jpg\n",
      "Image 10 captured and saved as C:\\Users\\mehro\\Desktop\\Tensorflow_projects\\image\\प\\10.jpg\n",
      "Image 11 captured and saved as C:\\Users\\mehro\\Desktop\\Tensorflow_projects\\image\\प\\11.jpg\n",
      "Image 12 captured and saved as C:\\Users\\mehro\\Desktop\\Tensorflow_projects\\image\\प\\12.jpg\n"
     ]
    }
   ],
   "source": [
    "while True:\n",
    "    # Capture a single frame\n",
    "    ret, frame = cap.read()\n",
    "\n",
    "    if not ret:\n",
    "        print(\"Error: Failed to capture image.\")\n",
    "        break\n",
    "\n",
    "    # Display the captured frame\n",
    "    cv2.imshow('Press Space to Capture, q to Quit', frame)\n",
    "\n",
    "    # Wait for a key press\n",
    "    key = cv2.waitKey(1)\n",
    "\n",
    "    if key == 32:  # If the spacebar is pressed (ASCII code 32)\n",
    "        # Generate the full path for the image\n",
    "        img_name = os.path.join(save_directory, f\"{image_count}.jpg\")\n",
    "        # Save the image\n",
    "        cv2.imwrite(img_name, frame)\n",
    "        print(f\"Image {image_count} captured and saved as {img_name}\")\n",
    "        image_count += 1\n",
    "\n",
    "    elif key == ord('q'):  # Press 'q' to quit\n",
    "        break\n",
    "cap.release()\n",
    "cv2.destroyAllWindows()"
   ]
  },
  {
   "cell_type": "code",
   "execution_count": null,
   "id": "bb530869-645a-4f28-a2a6-37028bce6c03",
   "metadata": {},
   "outputs": [],
   "source": []
  }
 ],
 "metadata": {
  "kernelspec": {
   "display_name": "Python 3 (ipykernel)",
   "language": "python",
   "name": "python3"
  },
  "language_info": {
   "codemirror_mode": {
    "name": "ipython",
    "version": 3
   },
   "file_extension": ".py",
   "mimetype": "text/x-python",
   "name": "python",
   "nbconvert_exporter": "python",
   "pygments_lexer": "ipython3",
   "version": "3.8.19"
  }
 },
 "nbformat": 4,
 "nbformat_minor": 5
}

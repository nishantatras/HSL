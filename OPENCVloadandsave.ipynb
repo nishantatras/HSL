{
 "cells": [
  {
   "cell_type": "code",
   "execution_count": 2,
   "id": "d8ccb6d3-0c2b-4ad2-8e18-3b0a823a1539",
   "metadata": {},
   "outputs": [],
   "source": [
    "import cv2"
   ]
  },
  {
   "cell_type": "code",
   "execution_count": 3,
   "id": "a9d2d26b-6bf4-4b3b-94ff-b1ae7a578c4a",
   "metadata": {},
   "outputs": [],
   "source": [
    "image = cv2.imread(r\"C:\\\\Users\\\\mehro\\\\Desktop\\\\31.jpg\")"
   ]
  },
  {
   "cell_type": "code",
   "execution_count": 7,
   "id": "9e542813-9fd7-44a7-9880-a7cdff404f9e",
   "metadata": {},
   "outputs": [],
   "source": [
    "# Display the image\n",
    "count = 1 \n",
    "for i in range(0,10):\n",
    "    output = f\"{count}.jpg\"\n",
    "    save_path = \"C:\\\\Users\\\\mehro\\\\Desktop\\\\131\\\\\"\n",
    "    save_path1 = save_path+output\n",
    "    cv2.imwrite(save_path1, image)\n",
    "    count+=1\n",
    "cv2.waitKey(0)\n",
    "cv2.destroyAllWindows()\n"
   ]
  },
  {
   "cell_type": "code",
   "execution_count": null,
   "id": "6a800a20-5c19-48a9-a659-4846e01d6563",
   "metadata": {},
   "outputs": [],
   "source": []
  }
 ],
 "metadata": {
  "kernelspec": {
   "display_name": "Python 3 (ipykernel)",
   "language": "python",
   "name": "python3"
  },
  "language_info": {
   "codemirror_mode": {
    "name": "ipython",
    "version": 3
   },
   "file_extension": ".py",
   "mimetype": "text/x-python",
   "name": "python",
   "nbconvert_exporter": "python",
   "pygments_lexer": "ipython3",
   "version": "3.8.19"
  }
 },
 "nbformat": 4,
 "nbformat_minor": 5
}
